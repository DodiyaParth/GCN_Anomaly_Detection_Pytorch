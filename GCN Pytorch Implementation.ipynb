{
 "cells": [
  {
   "cell_type": "code",
   "execution_count": 907,
   "metadata": {},
   "outputs": [],
   "source": [
    "from my_data_reader import get_data\n",
    "import torch\n",
    "import torch.nn as nn\n",
    "import torch.optim as optim\n",
    "import torch.nn.functional as F\n",
    "import networkx as nx\n",
    "import numpy as np\n",
    "import sklearn.metrics as metrics\n",
    "from sklearn.metrics import roc_auc_score\n",
    "import matplotlib.pyplot as plt"
   ]
  },
  {
   "cell_type": "code",
   "execution_count": 908,
   "metadata": {},
   "outputs": [
    {
     "name": "stdout",
     "output_type": "stream",
     "text": [
      "dict_keys(['adj', 'num_features', 'num_nodes', 'features_nonzero', 'adj_norm', 'adj_label', 'features', 'labels'])\n",
      "[('adj', <class 'scipy.sparse.lil.lil_matrix'>), ('num_features', <class 'int'>), ('num_nodes', <class 'int'>), ('features_nonzero', <class 'int'>), ('adj_norm', <class 'tuple'>), ('adj_label', <class 'tuple'>), ('features', <class 'tuple'>), ('labels', <class 'numpy.ndarray'>)]\n"
     ]
    }
   ],
   "source": [
    "data=get_data('Disney')\n",
    "print(data.keys())\n",
    "print([(i,type(v)) for i,v in data.items()])\n",
    "\n",
    "Adj = np.zeros(data['adj_norm'][2])\n",
    "i=0\n",
    "for cord in data['adj_norm'][0]:\n",
    "    Adj[cord[0]][cord[1]]=data['adj_norm'][1][i]\n",
    "    i+=1\n",
    "Adj=torch.Tensor(Adj)\n",
    "# Adj.require_grad=False"
   ]
  },
  {
   "cell_type": "code",
   "execution_count": 909,
   "metadata": {},
   "outputs": [
    {
     "data": {
      "text/plain": [
       "device(type='cuda')"
      ]
     },
     "execution_count": 909,
     "metadata": {},
     "output_type": "execute_result"
    }
   ],
   "source": [
    "device = torch.device('cuda' if torch.cuda.is_available() else 'cpu')\n",
    "device"
   ]
  },
  {
   "cell_type": "code",
   "execution_count": 910,
   "metadata": {},
   "outputs": [],
   "source": [
    "class GCNConv(nn.Module):\n",
    "    def __init__(self, A, in_channels, out_channels):\n",
    "        super(GCNConv, self).__init__()\n",
    "        self.A_hat = A\n",
    "        self.W     = nn.Parameter(torch.rand(in_channels,out_channels))\n",
    "    \n",
    "    def forward(self, X):\n",
    "        out = torch.mm(torch.mm(self.A_hat, X), self.W)\n",
    "        return out\n",
    "\n",
    "class NLGCN(nn.Module):\n",
    "    def __init__(self, channels):\n",
    "        super(NLGCN, self).__init__()\n",
    "        self.channels=channels\n",
    "        self.c=nn.Parameter(torch.rand(channels,1))\n",
    "        self.conv1D=nn.Conv1d(1,1,3,padding=1)\n",
    "        \n",
    "    def forward(self, X):\n",
    "        Av=X.matmul(self.c)\n",
    "        indices_sorted=Av.argsort()\n",
    "        indices_reorder=torch.sort(indices_sorted).values\n",
    "        X=X[indices_sorted]\n",
    "        shape=np.shape(X)\n",
    "        X=torch.reshape(X, (shape[0],shape[2]))\n",
    "        X=torch.transpose(X,0,1)\n",
    "        X=torch.reshape(X,(shape[2],shape[1],shape[0]))\n",
    "        X=self.conv1D(X)\n",
    "        X=torch.reshape(X,(shape[2],shape[0]))\n",
    "        X=torch.transpose(X,1,0)\n",
    "        X=X[indices_reorder]\n",
    "        X=torch.reshape(X,(shape[0],shape[2]))\n",
    "        return X"
   ]
  },
  {
   "cell_type": "code",
   "execution_count": 911,
   "metadata": {},
   "outputs": [
    {
     "name": "stdout",
     "output_type": "stream",
     "text": [
      "Net(\n",
      "  (conv1): GCNConv()\n",
      "  (conv2): GCNConv()\n",
      "  (nlgcn): NLGCN(\n",
      "    (conv1D): Conv1d(1, 1, kernel_size=(3,), stride=(1,), padding=(1,))\n",
      "  )\n",
      "  (dense1): Linear(in_features=10, out_features=10, bias=True)\n",
      "  (dense2): Linear(in_features=10, out_features=10, bias=True)\n",
      "  (conv3): GCNConv()\n",
      "  (conv4): GCNConv()\n",
      "  (dec2): GCNConv()\n",
      ")\n"
     ]
    }
   ],
   "source": [
    "class Net(torch.nn.Module):\n",
    "    def __init__(self,A, nfeat, nhid1,nhid2,nhid3, nout):\n",
    "        super(Net, self).__init__()\n",
    "        self.conv1 = GCNConv(A,nfeat, nhid1)\n",
    "        self.conv2 = GCNConv(A,nhid1, nhid2)\n",
    "        self.nlgcn=NLGCN(nhid2)\n",
    "        self.dense1=nn.Linear(nhid2,nhid2)\n",
    "        self.dense2=nn.Linear(nhid2,nhid2)\n",
    "        self.conv3 = GCNConv(A,nhid2, nhid3)\n",
    "        self.conv4 = GCNConv(A,nhid3, nout)\n",
    "        self.dec2 = GCNConv(A,nhid2,nhid3)\n",
    "        \n",
    "    def forward(self,X):\n",
    "        H  = self.conv1(X)\n",
    "        H = torch.relu(H)\n",
    "        H  = self.conv2(H)\n",
    "        H = torch.relu(H)\n",
    "        H=self.nlgcn(H)\n",
    "        \n",
    "        H = self.dense1(H)\n",
    "        H = torch.relu(H)\n",
    "        H = self.dense2(H)\n",
    "        H = torch.relu(H)\n",
    "        \n",
    "        #A=self.dec2(H)\n",
    "        A=torch.matmul(H,H.T)\n",
    "        A=torch.sigmoid(A)\n",
    "        \n",
    "        Att  = self.conv3(H)\n",
    "        Att = torch.relu(Att)\n",
    "        Att = self.conv4(Att)\n",
    "        Att = torch.softmax(Att,1)\n",
    "        return Att,A\n",
    "    \n",
    "#T = Net(Adj,21,12,10,12,21)\n",
    "T = Net(Adj,28,15,10,15,28)\n",
    "#T = Net(Adj,10,7,5,7,10)\n",
    "#T=Net(Adj,18,15,12,15,18)\n",
    "print(T)"
   ]
  },
  {
   "cell_type": "code",
   "execution_count": 912,
   "metadata": {},
   "outputs": [
    {
     "name": "stdout",
     "output_type": "stream",
     "text": [
      "feature matrix\n"
     ]
    },
    {
     "data": {
      "text/plain": [
       "tensor([[1., 1., 1.,  ..., 1., 1., 1.],\n",
       "        [1., 1., 1.,  ..., 1., 1., 1.],\n",
       "        [1., 1., 1.,  ..., 1., 1., 1.],\n",
       "        ...,\n",
       "        [1., 1., 1.,  ..., 1., 1., 1.],\n",
       "        [1., 1., 1.,  ..., 1., 1., 1.],\n",
       "        [1., 1., 1.,  ..., 1., 1., 1.]])"
      ]
     },
     "execution_count": 912,
     "metadata": {},
     "output_type": "execute_result"
    }
   ],
   "source": [
    "X=np.zeros(shape=data['features'][2],dtype='float32')\n",
    "i=0\n",
    "for cord in data['features'][0]:\n",
    "#     X[cord[0]][cord[1]]=data['features'][1][i]\n",
    "    X[cord[0]][cord[1]]=1\n",
    "    i+=1\n",
    "print('feature matrix')\n",
    "X=torch.tensor(X)\n",
    "# X.require_grad=False\n",
    "X"
   ]
  },
  {
   "cell_type": "code",
   "execution_count": 913,
   "metadata": {},
   "outputs": [
    {
     "name": "stdout",
     "output_type": "stream",
     "text": [
      "Adjacency Matrix\n"
     ]
    },
    {
     "data": {
      "text/plain": [
       "tensor([[0., 0., 0.,  ..., 0., 0., 1.],\n",
       "        [0., 0., 0.,  ..., 0., 0., 0.],\n",
       "        [0., 0., 0.,  ..., 0., 0., 0.],\n",
       "        ...,\n",
       "        [0., 0., 0.,  ..., 0., 0., 0.],\n",
       "        [0., 0., 0.,  ..., 0., 0., 0.],\n",
       "        [0., 0., 0.,  ..., 0., 0., 0.]])"
      ]
     },
     "execution_count": 913,
     "metadata": {},
     "output_type": "execute_result"
    }
   ],
   "source": [
    "Adj=data['adj'].toarray()\n",
    "Adj.astype('float32')\n",
    "Adj=torch.Tensor(Adj)\n",
    "# Adj.require_grad=False\n",
    "print(\"Adjacency Matrix\")\n",
    "Adj"
   ]
  },
  {
   "cell_type": "code",
   "execution_count": 914,
   "metadata": {},
   "outputs": [],
   "source": [
    "#criterion = torch.nn.L1Loss()\n",
    "optimizer = optim.Adam(T.parameters(), lr=0.05)\n",
    "\n",
    "#loss=criterion(T(X)[0],X)"
   ]
  },
  {
   "cell_type": "code",
   "execution_count": 915,
   "metadata": {},
   "outputs": [
    {
     "name": "stdout",
     "output_type": "stream",
     "text": [
      "Epoch :  0  Loss: = 64.42410278320312\n",
      "Epoch :  20  Loss: = 58.241641998291016\n",
      "Epoch :  40  Loss: = 58.241641998291016\n",
      "Epoch :  60  Loss: = 58.241641998291016\n",
      "Epoch :  80  Loss: = 58.241641998291016\n",
      "Epoch :  100  Loss: = 58.241641998291016\n"
     ]
    }
   ],
   "source": [
    "for i in range(101):\n",
    "    optimizer.zero_grad()\n",
    "    #loss=criterion(T(X), X)\n",
    "    feat_loss=torch.sqrt(torch.sum(torch.square(T(X)[0]-X)))\n",
    "    struct_loss=torch.sqrt(torch.sum(torch.square(T(X)[1]-Adj)))\n",
    "    loss=torch.div(torch.add(feat_loss,struct_loss),2)\n",
    "    loss.backward()\n",
    "    optimizer.step()\n",
    "    l=(T(X));\n",
    "\n",
    "    if i%20==0:\n",
    "        print(\"Epoch : \",i,\" Loss: =\", loss.item())"
   ]
  },
  {
   "cell_type": "code",
   "execution_count": 916,
   "metadata": {},
   "outputs": [
    {
     "name": "stdout",
     "output_type": "stream",
     "text": [
      "AUC score :  0.5007062146892656\n"
     ]
    },
    {
     "data": {
      "image/png": "[encoded data removed]",
      "text/plain": [
       "<Figure size 432x288 with 1 Axes>"
      ]
     },
     "metadata": {
      "needs_background": "light"
     },
     "output_type": "display_data"
    }
   ],
   "source": [
    "with torch.no_grad():\n",
    "    feat_loss=torch.square(T(X)[0]-X)\n",
    "    fl=[]\n",
    "    for i in feat_loss:\n",
    "        fl.append(np.sqrt(torch.sqrt(torch.sum(i))))\n",
    "    struct_loss=torch.square(T(X)[1]-Adj)\n",
    "    sl=[]\n",
    "    for i in struct_loss:\n",
    "        sl.append(np.sqrt(torch.sqrt(torch.sum(i))))\n",
    "    diff=[]\n",
    "    for i in range(len(feat_loss)):\n",
    "        diff.append((fl[i]+sl[i])/2)\n",
    "fpr, tpr, thresholds = metrics.roc_curve(data['labels'], diff, pos_label=None)\n",
    "print(\"AUC score : \",roc_auc_score(data['labels'], diff))\n",
    "# print(fpr,tpr)\n",
    "plt.plot(fpr,tpr)\n",
    "plt.show()"
   ]
  },
  {
   "cell_type": "code",
   "execution_count": 917,
   "metadata": {},
   "outputs": [],
   "source": [
    "Out=T(X)[1].detach().numpy()"
   ]
  },
  {
   "cell_type": "code",
   "execution_count": 918,
   "metadata": {},
   "outputs": [],
   "source": [
    "A=Adj.detach().numpy()"
   ]
  },
  {
   "cell_type": "code",
   "execution_count": 919,
   "metadata": {},
   "outputs": [
    {
     "data": {
      "text/plain": [
       "0"
      ]
     },
     "execution_count": 919,
     "metadata": {},
     "output_type": "execute_result"
    }
   ],
   "source": [
    "edge_anomalies=[]\n",
    "for i in range(len(A)):\n",
    "    for j in range(len(A)):\n",
    "        if Out[i][j]==0 and A[i][j]==1:\n",
    "            edge_anomalies.append((i,j))\n",
    "len(edge_anomalies)"
   ]
  },
  {
   "cell_type": "code",
   "execution_count": 920,
   "metadata": {},
   "outputs": [
    {
     "name": "stdout",
     "output_type": "stream",
     "text": [
      "15376\n"
     ]
    }
   ],
   "source": [
    "count=0\n",
    "for i in range(len(A)):\n",
    "    for j in range(len(A)):\n",
    "         if Out[i][j]==0.5:\n",
    "                count+=1\n",
    "print(count)"
   ]
  },
  {
   "cell_type": "code",
   "execution_count": 921,
   "metadata": {},
   "outputs": [
    {
     "data": {
      "text/plain": [
       "(124, 124)"
      ]
     },
     "execution_count": 921,
     "metadata": {},
     "output_type": "execute_result"
    }
   ],
   "source": [
    "np.shape(Out)"
   ]
  },
  {
   "cell_type": "code",
   "execution_count": 922,
   "metadata": {},
   "outputs": [
    {
     "data": {
      "text/plain": [
       "array([[0.5, 0.5, 0.5, ..., 0.5, 0.5, 0.5],\n",
       "       [0.5, 0.5, 0.5, ..., 0.5, 0.5, 0.5],\n",
       "       [0.5, 0.5, 0.5, ..., 0.5, 0.5, 0.5],\n",
       "       ...,\n",
       "       [0.5, 0.5, 0.5, ..., 0.5, 0.5, 0.5],\n",
       "       [0.5, 0.5, 0.5, ..., 0.5, 0.5, 0.5],\n",
       "       [0.5, 0.5, 0.5, ..., 0.5, 0.5, 0.5]], dtype=float32)"
      ]
     },
     "execution_count": 922,
     "metadata": {},
     "output_type": "execute_result"
    }
   ],
   "source": [
    "Out"
   ]
  },
  {
   "cell_type": "code",
   "execution_count": 923,
   "metadata": {},
   "outputs": [
    {
     "data": {
      "text/plain": [
       "torch.Size([124, 28])"
      ]
     },
     "execution_count": 923,
     "metadata": {},
     "output_type": "execute_result"
    }
   ],
   "source": [
    "T(X)[0].size()"
   ]
  },
  {
   "cell_type": "code",
   "execution_count": null,
   "metadata": {},
   "outputs": [],
   "source": []
  }
 ],
 "metadata": {
  "kernelspec": {
   "display_name": "Python 3",
   "language": "python",
   "name": "python3"
  },
  "language_info": {
   "codemirror_mode": {
    "name": "ipython",
    "version": 3
   },
   "file_extension": ".py",
   "mimetype": "text/x-python",
   "name": "python",
   "nbconvert_exporter": "python",
   "pygments_lexer": "ipython3",
   "version": "3.8.5"
  }
 },
 "nbformat": 4,
 "nbformat_minor": 4
}
