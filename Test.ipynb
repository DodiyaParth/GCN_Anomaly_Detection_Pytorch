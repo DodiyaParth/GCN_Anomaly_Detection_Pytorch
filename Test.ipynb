{
 "cells": [
  {
   "cell_type": "code",
   "execution_count": 14,
   "metadata": {},
   "outputs": [],
   "source": [
    "from my_data_reader import get_data\n",
    "import torch\n",
    "import torch.nn as nn\n",
    "import torch.optim as optim\n",
    "import torch.nn.functional as F\n",
    "import networkx as nx\n",
    "import numpy as np\n",
    "import sklearn.metrics as metrics\n",
    "from sklearn.metrics import roc_auc_score\n",
    "import matplotlib.pyplot as plt"
   ]
  },
  {
   "cell_type": "code",
   "execution_count": 15,
   "metadata": {},
   "outputs": [
    {
     "name": "stdout",
     "output_type": "stream",
     "text": [
      "dict_keys(['adj', 'num_features', 'num_nodes', 'features_nonzero', 'adj_norm', 'adj_label', 'features', 'labels'])\n",
      "[('adj', <class 'scipy.sparse.lil.lil_matrix'>), ('num_features', <class 'int'>), ('num_nodes', <class 'int'>), ('features_nonzero', <class 'int'>), ('adj_norm', <class 'tuple'>), ('adj_label', <class 'tuple'>), ('features', <class 'tuple'>), ('labels', <class 'numpy.ndarray'>)]\n"
     ]
    }
   ],
   "source": [
    "data=get_data('Amazon')\n",
    "print(data.keys())\n",
    "print([(i,type(v)) for i,v in data.items()])"
   ]
  },
  {
   "cell_type": "code",
   "execution_count": 16,
   "metadata": {},
   "outputs": [
    {
     "data": {
      "text/plain": [
       "device(type='cuda')"
      ]
     },
     "execution_count": 16,
     "metadata": {},
     "output_type": "execute_result"
    }
   ],
   "source": [
    "device = torch.device('cuda' if torch.cuda.is_available() else 'cpu')\n",
    "device"
   ]
  },
  {
   "cell_type": "code",
   "execution_count": 25,
   "metadata": {},
   "outputs": [
    {
     "data": {
      "text/plain": [
       "tensor([[0.2500, 0.0000, 0.0000,  ..., 0.0000, 0.0000, 0.0000],\n",
       "        [0.0000, 0.2000, 0.0000,  ..., 0.0000, 0.0000, 0.0000],\n",
       "        [0.0000, 0.0000, 0.2500,  ..., 0.0000, 0.0000, 0.0000],\n",
       "        ...,\n",
       "        [0.0000, 0.0000, 0.0000,  ..., 1.0000, 0.0000, 0.0000],\n",
       "        [0.0000, 0.0000, 0.0000,  ..., 0.0000, 0.5000, 0.0000],\n",
       "        [0.0000, 0.0000, 0.0000,  ..., 0.0000, 0.0000, 0.3333]])"
      ]
     },
     "execution_count": 25,
     "metadata": {},
     "output_type": "execute_result"
    }
   ],
   "source": [
    "Adj = np.zeros(data['adj_norm'][2])\n",
    "i=0\n",
    "for cord in data['adj_norm'][0]:\n",
    "    Adj[cord[0]][cord[1]]=data['adj_norm'][1][i]\n",
    "    i+=1\n",
    "Adj=torch.Tensor(Adj)\n",
    "Adj.require_grad=False\n",
    "Adj"
   ]
  },
  {
   "cell_type": "code",
   "execution_count": 37,
   "metadata": {},
   "outputs": [
    {
     "name": "stdout",
     "output_type": "stream",
     "text": [
      "feature matrix\n"
     ]
    },
    {
     "data": {
      "text/plain": [
       "tensor([[1., 1., 1.,  ..., 1., 0., 0.],\n",
       "        [0., 1., 1.,  ..., 1., 1., 1.],\n",
       "        [0., 0., 1.,  ..., 1., 1., 0.],\n",
       "        ...,\n",
       "        [0., 0., 1.,  ..., 1., 1., 0.],\n",
       "        [0., 1., 1.,  ..., 1., 1., 0.],\n",
       "        [1., 1., 1.,  ..., 1., 1., 0.]])"
      ]
     },
     "execution_count": 37,
     "metadata": {},
     "output_type": "execute_result"
    }
   ],
   "source": [
    "X=np.zeros(shape=data['features'][2],dtype='float32')\n",
    "i=0\n",
    "for cord in data['features'][0]:\n",
    "    X[cord[0]][cord[1]]=1\n",
    "    i+=1\n",
    "print('feature matrix')\n",
    "X=torch.tensor(X,requires_grad=False)\n",
    "X"
   ]
  },
  {
   "cell_type": "code",
   "execution_count": 38,
   "metadata": {},
   "outputs": [
    {
     "data": {
      "text/plain": [
       "(array([[   0,    0],\n",
       "        [   0,    1],\n",
       "        [   0,    2],\n",
       "        ...,\n",
       "        [1417,   17],\n",
       "        [1417,   18],\n",
       "        [1417,   19]], dtype=int32),\n",
       " array([2.06610e-02, 3.33333e-01, 1.90000e-05, ..., 9.00000e-01,\n",
       "        6.25900e-03, 6.81818e-01]),\n",
       " (1418, 21))"
      ]
     },
     "execution_count": 38,
     "metadata": {},
     "output_type": "execute_result"
    }
   ],
   "source": [
    "data['features']"
   ]
  },
  {
   "cell_type": "code",
   "execution_count": 120,
   "metadata": {},
   "outputs": [],
   "source": [
    "class GCNConv(nn.Module):\n",
    "    def __init__(self, A, in_channels, out_channels):\n",
    "        super(GCNConv, self).__init__()\n",
    "        self.A_hat = A\n",
    "        self.W     = nn.Parameter(torch.rand(in_channels,out_channels))\n",
    "    \n",
    "    def forward(self, X):\n",
    "        out = torch.mm(torch.mm(self.A_hat, X), self.W)\n",
    "        return out\n",
    "\n",
    "class NLGCN(nn.Module):\n",
    "    def __init__(self, channels):\n",
    "        super(NLGCN, self).__init__()\n",
    "        self.channels=channels\n",
    "        self.c=nn.Parameter(torch.rand(channels,1))\n",
    "        self.conv1D=nn.Conv1d(1,1,3,padding=1)\n",
    "        \n",
    "    def forward(self, X):\n",
    "        Av=X.matmul(self.c)\n",
    "        indices_sorted=Av.argsort()\n",
    "        indices_reorder=torch.sort(indices_sorted).values\n",
    "        print(1,np.shape(X))\n",
    "        X=X[indices_sorted]\n",
    "        shape=np.shape(X)\n",
    "        X=torch.reshape(X, (shape[0],shape[2]))\n",
    "        X=torch.transpose(X,0,1)\n",
    "        X=torch.reshape(X,(shape[2],shape[1],shape[0]))\n",
    "        print(2,np.shape(X))\n",
    "        X=self.conv1D(X)\n",
    "        print(3,np.shape(X))\n",
    "        X=torch.reshape(X,(shape[2],shape[0]))\n",
    "        X=torch.transpose(X,1,0)\n",
    "        print(3.5,np.shape(X))\n",
    "        X=X[indices_reorder]\n",
    "        X=torch.reshape(X,(shape[0],shape[2]))\n",
    "        print(4,np.shape(X))\n",
    "        return X"
   ]
  },
  {
   "cell_type": "code",
   "execution_count": 121,
   "metadata": {},
   "outputs": [],
   "source": [
    "a=torch.Tensor([2,1,423,21,25,34,53,6,3,534])\n",
    "x=a.argsort()\n",
    "t=torch.sort(x).values"
   ]
  },
  {
   "cell_type": "code",
   "execution_count": 122,
   "metadata": {},
   "outputs": [],
   "source": [
    "conv1 = GCNConv(A,21, 12)\n",
    "conv2 = GCNConv(A,12, 10)\n",
    "nlgcn=NLGCN(10)\n"
   ]
  },
  {
   "cell_type": "code",
   "execution_count": 123,
   "metadata": {},
   "outputs": [
    {
     "name": "stdout",
     "output_type": "stream",
     "text": [
      "1 torch.Size([1418, 10])\n",
      "2 torch.Size([10, 1, 1418])\n",
      "3 torch.Size([10, 1, 1418])\n",
      "3.5 torch.Size([1418, 10])\n",
      "4 torch.Size([1418, 10])\n"
     ]
    }
   ],
   "source": [
    "H=conv1(X)\n",
    "H=conv2(H)\n",
    "H=nlgcn(H)"
   ]
  },
  {
   "cell_type": "code",
   "execution_count": 91,
   "metadata": {},
   "outputs": [
    {
     "data": {
      "text/plain": [
       "torch.Size([1418, 10])"
      ]
     },
     "execution_count": 91,
     "metadata": {},
     "output_type": "execute_result"
    }
   ],
   "source": [
    "np.shape(H)"
   ]
  },
  {
   "cell_type": "code",
   "execution_count": null,
   "metadata": {},
   "outputs": [],
   "source": []
  }
 ],
 "metadata": {
  "kernelspec": {
   "display_name": "Python 3",
   "language": "python",
   "name": "python3"
  },
  "language_info": {
   "codemirror_mode": {
    "name": "ipython",
    "version": 3
   },
   "file_extension": ".py",
   "mimetype": "text/x-python",
   "name": "python",
   "nbconvert_exporter": "python",
   "pygments_lexer": "ipython3",
   "version": "3.8.5"
  }
 },
 "nbformat": 4,
 "nbformat_minor": 4
}
